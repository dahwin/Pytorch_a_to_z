{
 "cells": [
  {
   "cell_type": "code",
   "execution_count": 25,
   "id": "4f29dcd3-efba-4dda-bfed-4fd70a256e73",
   "metadata": {
    "tags": []
   },
   "outputs": [
    {
     "name": "stdout",
     "output_type": "stream",
     "text": [
      "tensor([[ 5, 12],\n",
      "        [21, 32]])\n"
     ]
    }
   ],
   "source": [
    "import torch\n",
    "\n",
    "# create two matrices\n",
    "a = torch.tensor([[1, 2], [3, 4]])\n",
    "b = torch.tensor([[5, 6], [7, 8]])\n",
    "\n",
    "# compute the element-wise product of a and b\n",
    "c = torch.einsum('ij,ij->ij', a, b)\n",
    "print(c)"
   ]
  },
  {
   "cell_type": "markdown",
   "id": "f092e52d-9afa-4ac7-99f7-ec8ef3dba1e0",
   "metadata": {},
   "source": [
    "# permutation"
   ]
  },
  {
   "cell_type": "code",
   "execution_count": 16,
   "id": "ebc40beb-3902-477d-9dcc-75787032621e",
   "metadata": {
    "tags": []
   },
   "outputs": [
    {
     "data": {
      "text/plain": [
       "tensor([0.7513, 2.2549])"
      ]
     },
     "execution_count": 16,
     "metadata": {},
     "output_type": "execute_result"
    }
   ],
   "source": [
    "x = torch.rand((2,3))\n",
    "torch.einsum('ij->i',x)"
   ]
  },
  {
   "cell_type": "code",
   "execution_count": 19,
   "id": "33f49fe4-d236-4c0f-9242-8dada362ec7e",
   "metadata": {
    "tags": []
   },
   "outputs": [
    {
     "data": {
      "text/plain": [
       "tensor([[0.1256, 0.3446, 0.2811],\n",
       "        [0.8036, 0.4699, 0.9814]])"
      ]
     },
     "execution_count": 19,
     "metadata": {},
     "output_type": "execute_result"
    }
   ],
   "source": [
    "x"
   ]
  },
  {
   "cell_type": "markdown",
   "id": "b66f4e76-c64a-424f-ad75-6d3f58b5db19",
   "metadata": {},
   "source": [
    "# Sumation"
   ]
  },
  {
   "cell_type": "code",
   "execution_count": 18,
   "id": "e043bc13-ae2f-4004-bdaf-2871dfcc2886",
   "metadata": {
    "tags": []
   },
   "outputs": [
    {
     "data": {
      "text/plain": [
       "tensor(3.0063)"
      ]
     },
     "execution_count": 18,
     "metadata": {},
     "output_type": "execute_result"
    }
   ],
   "source": [
    "torch.einsum('ij->',x)"
   ]
  },
  {
   "cell_type": "markdown",
   "id": "6f5127dc-17ce-4a2e-9cb9-338ce48c61cd",
   "metadata": {},
   "source": [
    "# Columns Sum"
   ]
  },
  {
   "cell_type": "code",
   "execution_count": 20,
   "id": "3054ec07-5f94-4768-825f-3133cbf6d174",
   "metadata": {
    "tags": []
   },
   "outputs": [
    {
     "data": {
      "text/plain": [
       "tensor([0.9293, 0.8145, 1.2625])"
      ]
     },
     "execution_count": 20,
     "metadata": {},
     "output_type": "execute_result"
    }
   ],
   "source": [
    "torch.einsum('ij->j',x)"
   ]
  },
  {
   "cell_type": "markdown",
   "id": "6d3b79b3-bb0d-490f-aab1-5781b3b0e8c9",
   "metadata": {},
   "source": [
    "# Row Sum"
   ]
  },
  {
   "cell_type": "code",
   "execution_count": 21,
   "id": "87f5729f-5165-442c-ab97-8dd31263687e",
   "metadata": {
    "tags": []
   },
   "outputs": [
    {
     "data": {
      "text/plain": [
       "tensor([0.7513, 2.2549])"
      ]
     },
     "execution_count": 21,
     "metadata": {},
     "output_type": "execute_result"
    }
   ],
   "source": [
    "torch.einsum('ij->i',x)"
   ]
  },
  {
   "cell_type": "markdown",
   "id": "8c8075a2-11e7-41d1-842d-11eff8b22636",
   "metadata": {},
   "source": [
    "# Matrix - vactor Multipication"
   ]
  },
  {
   "cell_type": "code",
   "execution_count": 22,
   "id": "dadc4ed8-3f31-4445-b8b7-9109fb8c3a96",
   "metadata": {
    "tags": []
   },
   "outputs": [
    {
     "data": {
      "text/plain": [
       "tensor([[0.9035, 0.6947, 0.2231]])"
      ]
     },
     "execution_count": 22,
     "metadata": {},
     "output_type": "execute_result"
    }
   ],
   "source": [
    "v = torch.rand(1,3)\n",
    "v"
   ]
  },
  {
   "cell_type": "code",
   "execution_count": 23,
   "id": "39b5b84c-d7a8-4ec3-b4e4-b666a3b4c3ef",
   "metadata": {
    "tags": []
   },
   "outputs": [
    {
     "data": {
      "text/plain": [
       "tensor([[0.8396],\n",
       "        [0.5658],\n",
       "        [0.2816]])"
      ]
     },
     "execution_count": 23,
     "metadata": {},
     "output_type": "execute_result"
    }
   ],
   "source": [
    "torch.einsum('ij,kj->jk',x,v)"
   ]
  },
  {
   "cell_type": "markdown",
   "id": "944fc264-d031-4e53-94c4-d668b1d91217",
   "metadata": {},
   "source": [
    "# Matrix Matrix Multipication"
   ]
  },
  {
   "cell_type": "code",
   "execution_count": 28,
   "id": "0eb978ab-7ea8-4d0e-b628-d01e5825d0ff",
   "metadata": {
    "tags": []
   },
   "outputs": [
    {
     "data": {
      "text/plain": [
       "tensor([[0.2135, 0.5387],\n",
       "        [0.5387, 1.8298]])"
      ]
     },
     "execution_count": 28,
     "metadata": {},
     "output_type": "execute_result"
    }
   ],
   "source": [
    "torch.einsum('ij,kj->ik',x,x)"
   ]
  },
  {
   "cell_type": "markdown",
   "id": "73b9ecdb-4779-45c9-9610-230053332df9",
   "metadata": {},
   "source": [
    "# Dot product first row with first row of matrix"
   ]
  },
  {
   "cell_type": "code",
   "execution_count": 29,
   "id": "1fe75ffc-47e7-49b4-8e86-c516024dbcf2",
   "metadata": {
    "tags": []
   },
   "outputs": [
    {
     "data": {
      "text/plain": [
       "tensor(0.2135)"
      ]
     },
     "execution_count": 29,
     "metadata": {},
     "output_type": "execute_result"
    }
   ],
   "source": [
    "torch.einsum('i,i->',x[0],x[0])"
   ]
  },
  {
   "cell_type": "markdown",
   "id": "cf9714dc-ad29-4d3f-8eac-3e8b787c7cb5",
   "metadata": {},
   "source": [
    "# Hardwmard product (element -wise multipication)"
   ]
  },
  {
   "cell_type": "code",
   "execution_count": 32,
   "id": "c587ea85-5fce-42c5-bd85-4720df7422e9",
   "metadata": {
    "tags": []
   },
   "outputs": [
    {
     "data": {
      "text/plain": [
       "tensor([[ 5, 12],\n",
       "        [21, 32]])"
      ]
     },
     "execution_count": 32,
     "metadata": {},
     "output_type": "execute_result"
    }
   ],
   "source": [
    "torch.einsum('ij,ij->ij',a,b)"
   ]
  },
  {
   "cell_type": "markdown",
   "id": "d2639a72-4c93-4f20-ab7f-fb32a6f3f7cb",
   "metadata": {},
   "source": [
    "# Outer Product"
   ]
  },
  {
   "cell_type": "code",
   "execution_count": 36,
   "id": "0adf06f5-ed36-4e1f-8a1a-77008cc3f3ac",
   "metadata": {
    "tags": []
   },
   "outputs": [
    {
     "data": {
      "text/plain": [
       "tensor([[0.5633, 0.3893, 0.5135, 0.2461, 0.0551],\n",
       "        [0.4016, 0.2776, 0.3661, 0.1755, 0.0393],\n",
       "        [0.2442, 0.1688, 0.2226, 0.1067, 0.0239]])"
      ]
     },
     "execution_count": 36,
     "metadata": {},
     "output_type": "execute_result"
    }
   ],
   "source": [
    "a = torch.rand((3))\n",
    "b = torch.rand((5))\n",
    "torch.einsum(\"i,j->ij\",a,b)"
   ]
  },
  {
   "cell_type": "markdown",
   "id": "87cda896-64b9-46e9-8e50-18c6928d5ac6",
   "metadata": {},
   "source": [
    "# Batch Matix Multipication"
   ]
  },
  {
   "cell_type": "code",
   "execution_count": 37,
   "id": "86bbf73a-6020-4505-b746-92dc232c82d1",
   "metadata": {
    "tags": []
   },
   "outputs": [
    {
     "data": {
      "text/plain": [
       "tensor([[[1.1345, 0.4373, 1.3538],\n",
       "         [0.9558, 0.3618, 1.3580]],\n",
       "\n",
       "        [[1.1885, 1.6214, 1.8640],\n",
       "         [1.7487, 2.0753, 2.2489]],\n",
       "\n",
       "        [[0.7315, 0.8350, 0.7993],\n",
       "         [1.0149, 1.0675, 0.9840]]])"
      ]
     },
     "execution_count": 37,
     "metadata": {},
     "output_type": "execute_result"
    }
   ],
   "source": [
    "a = torch.rand((3,2,5))\n",
    "b = torch.rand((3,5,3))\n",
    "torch.einsum(\"ijk,ikl->ijl\",a,b)"
   ]
  },
  {
   "cell_type": "markdown",
   "id": "53e02e3b-fea8-4a37-910f-7878f0c36006",
   "metadata": {},
   "source": [
    "# Matix Diagonal"
   ]
  },
  {
   "cell_type": "code",
   "execution_count": 38,
   "id": "6f07b4b6-23ef-4f93-9e4e-265322c7ad1e",
   "metadata": {
    "tags": []
   },
   "outputs": [
    {
     "data": {
      "text/plain": [
       "tensor([0.2741, 0.9359, 0.8498])"
      ]
     },
     "execution_count": 38,
     "metadata": {},
     "output_type": "execute_result"
    }
   ],
   "source": [
    "x = torch.rand((3,3))\n",
    "torch.einsum('ii->i',x)"
   ]
  },
  {
   "cell_type": "markdown",
   "id": "7074d5f5-e863-4dac-9921-1cb66d5c4f54",
   "metadata": {},
   "source": [
    "# Matix Trace"
   ]
  },
  {
   "cell_type": "code",
   "execution_count": 39,
   "id": "35e753d0-1e37-477e-83a4-db7bade8666f",
   "metadata": {
    "tags": []
   },
   "outputs": [
    {
     "data": {
      "text/plain": [
       "tensor(2.0597)"
      ]
     },
     "execution_count": 39,
     "metadata": {},
     "output_type": "execute_result"
    }
   ],
   "source": [
    "torch.einsum('ii->',x)"
   ]
  },
  {
   "cell_type": "code",
   "execution_count": null,
   "id": "8e6962cd-2366-48bb-9b8c-dd48cbcf33bf",
   "metadata": {},
   "outputs": [],
   "source": []
  },
  {
   "cell_type": "code",
   "execution_count": 4,
   "id": "0080eabb-eae2-4c12-9f29-6e2aafcbd01f",
   "metadata": {
    "tags": []
   },
   "outputs": [],
   "source": [
    "import torch\n",
    "\n",
    "# create a 3D tensor with shape (batch_size, height, width)\n",
    "x = torch.randn(2, 3, 4)\n",
    "\n",
    "# permute the dimensions to obtain a tensor with shape (height, batch_size, width)\n",
    "y = torch.einsum('bhw->hbw', x)\n"
   ]
  },
  {
   "cell_type": "code",
   "execution_count": 5,
   "id": "da701e58-e3dd-4b43-b39e-5c194d1973ad",
   "metadata": {
    "tags": []
   },
   "outputs": [
    {
     "data": {
      "text/plain": [
       "tensor([[[ 0.8026,  0.3564,  1.2165, -1.5074],\n",
       "         [ 0.1897,  1.5893,  0.7320, -0.9231]],\n",
       "\n",
       "        [[-0.6614,  0.6692, -0.6184,  0.6390],\n",
       "         [-0.0061,  0.2947,  1.0751, -0.1674]],\n",
       "\n",
       "        [[-0.7403, -1.4407, -1.1183,  0.0487],\n",
       "         [-0.1383,  0.4907, -0.3737,  1.7388]]])"
      ]
     },
     "execution_count": 5,
     "metadata": {},
     "output_type": "execute_result"
    }
   ],
   "source": [
    "y"
   ]
  },
  {
   "cell_type": "code",
   "execution_count": 6,
   "id": "af1658fd-1272-4289-b073-cf1d50cb77bf",
   "metadata": {
    "tags": []
   },
   "outputs": [
    {
     "data": {
      "text/plain": [
       "tensor([[[ 0.8026,  0.3564,  1.2165, -1.5074],\n",
       "         [-0.6614,  0.6692, -0.6184,  0.6390],\n",
       "         [-0.7403, -1.4407, -1.1183,  0.0487]],\n",
       "\n",
       "        [[ 0.1897,  1.5893,  0.7320, -0.9231],\n",
       "         [-0.0061,  0.2947,  1.0751, -0.1674],\n",
       "         [-0.1383,  0.4907, -0.3737,  1.7388]]])"
      ]
     },
     "execution_count": 6,
     "metadata": {},
     "output_type": "execute_result"
    }
   ],
   "source": [
    "x"
   ]
  },
  {
   "cell_type": "code",
   "execution_count": null,
   "id": "909cc549-0a6f-4d79-b1a5-ea578a935c79",
   "metadata": {},
   "outputs": [],
   "source": []
  }
 ],
 "metadata": {
  "kernelspec": {
   "display_name": "Python 3 (ipykernel)",
   "language": "python",
   "name": "python3"
  },
  "language_info": {
   "codemirror_mode": {
    "name": "ipython",
    "version": 3
   },
   "file_extension": ".py",
   "mimetype": "text/x-python",
   "name": "python",
   "nbconvert_exporter": "python",
   "pygments_lexer": "ipython3",
   "version": "3.10.8"
  }
 },
 "nbformat": 4,
 "nbformat_minor": 5
}
